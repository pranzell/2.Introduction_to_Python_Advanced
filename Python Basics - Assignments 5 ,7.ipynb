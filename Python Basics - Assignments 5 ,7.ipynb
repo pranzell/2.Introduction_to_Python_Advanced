{
 "cells": [
  {
   "cell_type": "markdown",
   "metadata": {},
   "source": [
    "# Python Basics "
   ]
  },
  {
   "cell_type": "markdown",
   "metadata": {},
   "source": [
    "##### Python Basics to be covered through these assignments using the mentioned tools Secant and Spline."
   ]
  },
  {
   "cell_type": "markdown",
   "metadata": {},
   "source": [
    "\n",
    "\n",
    "## Assignments 5  - Secant"
   ]
  },
  {
   "cell_type": "markdown",
   "metadata": {},
   "source": [
    "\n",
    "### Variable Description:\n",
    "\n",
    " - f      : Given Function \n",
    " - fR     : Function mentioned, f1 OR f2\n",
    " - x0, x1    : First and Second estimated values\n",
    " - E     : Error obtained\n",
    " - PE   : Permissible Error = 0.001\n",
    " \n",
    " "
   ]
  },
  {
   "cell_type": "markdown",
   "metadata": {},
   "source": [
    "#### Importing math package"
   ]
  },
  {
   "cell_type": "code",
   "execution_count": 193,
   "metadata": {
    "collapsed": true
   },
   "outputs": [],
   "source": [
    "import math"
   ]
  },
  {
   "cell_type": "markdown",
   "metadata": {},
   "source": [
    "#### Defining function f(x) -"
   ]
  },
  {
   "cell_type": "code",
   "execution_count": 194,
   "metadata": {
    "collapsed": true
   },
   "outputs": [],
   "source": [
    "# func_required : The function we are going to solve, if func_required = 1, that means f(x) = x^3 -20 \n",
    "\n",
    "def f(x, func_required):\n",
    "    if(func_required == 1):\n",
    "        # Function f(x) = x^3 - 20 :  Roots will be calculated for this fucntion. \n",
    "        return (x**3 - 20)\n",
    "    else:\n",
    "        # Function f(x) = cos(x) + 2sin(x) + x^2 :  Roots will be calculated for this fucntion. \n",
    "        return (math.cos(x) + 2*math.sin(x) + x**2) "
   ]
  },
  {
   "cell_type": "markdown",
   "metadata": {},
   "source": [
    "#### Secant Method defined - "
   ]
  },
  {
   "cell_type": "code",
   "execution_count": 195,
   "metadata": {
    "collapsed": true
   },
   "outputs": [],
   "source": [
    "def secant_method(fR, x0, x1, PE):\n",
    "    x2 = x1 - (f(x1,fR) * (x1 - x0))/(f(x1,fR) - f(x0,fR))\n",
    "    E = x2 - x1    \n",
    "    if(E < PE):\n",
    "        return x2\n",
    "    else:\n",
    "        x0 = x1\n",
    "        x1 = x2\n",
    "        secant_method(fR, x0, x1, PE)"
   ]
  },
  {
   "cell_type": "markdown",
   "metadata": {},
   "source": [
    "#### Calling Secant Method -"
   ]
  },
  {
   "cell_type": "code",
   "execution_count": 196,
   "metadata": {
    "collapsed": false
   },
   "outputs": [],
   "source": [
    "#Invoking Secant Method\n",
    "result_1 = secant_method(1, 2, 3.0, 0.001)\n",
    "result_2 = secant_method(2, 2, 3, 0.001)"
   ]
  },
  {
   "cell_type": "markdown",
   "metadata": {},
   "source": [
    "#### Displaying the results"
   ]
  },
  {
   "cell_type": "code",
   "execution_count": 197,
   "metadata": {
    "collapsed": false
   },
   "outputs": [
    {
     "name": "stdout",
     "output_type": "stream",
     "text": [
      "Root of Function(x^3 - 20)  is  =  2.6315789473684212\n",
      "\n",
      "Root of Function(cos(x) + 2sin(x) + x^2)  is  =  0.13051112626004802\n"
     ]
    }
   ],
   "source": [
    "print(\"Root of Function(x^3 - 20)  is  = \", result_1)\n",
    "print(\"\\nRoot of Function(cos(x) + 2sin(x) + x^2)  is  = \", result_2)    "
   ]
  },
  {
   "cell_type": "markdown",
   "metadata": {},
   "source": [
    "## Assignments 7  - Spline"
   ]
  },
  {
   "cell_type": "markdown",
   "metadata": {},
   "source": [
    "\n",
    "### Variable Description:\n",
    "\n",
    "##### time_velocity_data     :  Given Data set stored in a 2D List\n",
    "\n",
    "      Time(s)  -   Velocity(m/s)\n",
    "       0              0\n",
    "       10           227.04\n",
    "       15           362.78\n",
    "       20           517.35\n",
    "       22.5         602.97\n",
    "\n",
    " - find_data_point : Method to find the lower and the higher Time data\n",
    " - find_value : Method to calculate the value of the asked data point\n",
    " - data_point     :  Time for which the velocity has to be determined\n",
    " - d_pair            :  Time - Velocity pair extracted from the main data set\n",
    " - previous_list, next_list      :  Time - Velocity pair stored in a list\n",
    " - value_data_point     :  Velocity for the asked Time\n",
    " "
   ]
  },
  {
   "cell_type": "markdown",
   "metadata": {},
   "source": [
    "#### Data Set ( Time - Velocity )"
   ]
  },
  {
   "cell_type": "code",
   "execution_count": 198,
   "metadata": {
    "collapsed": true
   },
   "outputs": [],
   "source": [
    "time_velocity_data = [[0,0], [10,227.04], [15,362.78], [20,517.35], [22.5,602.97]]"
   ]
  },
  {
   "cell_type": "markdown",
   "metadata": {},
   "source": [
    "#### Concerned Data Points (Time) : "
   ]
  },
  {
   "cell_type": "code",
   "execution_count": 203,
   "metadata": {
    "collapsed": false
   },
   "outputs": [],
   "source": [
    "data_points = [14, 19, 21]"
   ]
  },
  {
   "cell_type": "markdown",
   "metadata": {},
   "source": [
    "#### Defining Method for finding the lower and the higher data_point"
   ]
  },
  {
   "cell_type": "code",
   "execution_count": 204,
   "metadata": {
    "collapsed": false
   },
   "outputs": [],
   "source": [
    "def find_data_point(data_point):\n",
    "    for d_pair in time_velocity_data: \n",
    "        if(data_point > d_pair[0]):\n",
    "            previous_list = d_pair\n",
    "        elif(data_point < d_pair[0]):\n",
    "            next_list = d_pair\n",
    "            return find_value(data_point, previous_list, next_list)\n",
    "        else:\n",
    "            return d_pair[1]"
   ]
  },
  {
   "cell_type": "markdown",
   "metadata": {},
   "source": [
    "#### Defining Method for finding the value of the concerned data_point"
   ]
  },
  {
   "cell_type": "code",
   "execution_count": 205,
   "metadata": {
    "collapsed": false
   },
   "outputs": [],
   "source": [
    "def find_value(data_point, previous_list, next_list):\n",
    "    value_data_point = previous_list[1] + ((next_list[1] - previous_list[1])*(data_point - previous_list[0]))/(next_list[0] - previous_list[0])\n",
    "    return value_data_point"
   ]
  },
  {
   "cell_type": "markdown",
   "metadata": {},
   "source": [
    "#### Displaying the results"
   ]
  },
  {
   "cell_type": "code",
   "execution_count": 209,
   "metadata": {
    "collapsed": false
   },
   "outputs": [
    {
     "name": "stdout",
     "output_type": "stream",
     "text": [
      "\n",
      "The speed at 14.000000 s is = 335.632000 m/s\n",
      "\n",
      "The speed at 19.000000 s is = 486.436000 m/s\n",
      "\n",
      "The speed at 21.000000 s is = 551.598000 m/s\n"
     ]
    }
   ],
   "source": [
    "for time in data_points:\n",
    "    print(\"\\nThe speed at %f s is = %f m/s\" % (time, find_data_point(time)))"
   ]
  }
 ],
 "metadata": {
  "kernelspec": {
   "display_name": "Python 3",
   "language": "python",
   "name": "python3"
  },
  "language_info": {
   "codemirror_mode": {
    "name": "ipython",
    "version": 3
   },
   "file_extension": ".py",
   "mimetype": "text/x-python",
   "name": "python",
   "nbconvert_exporter": "python",
   "pygments_lexer": "ipython3",
   "version": "3.6.0"
  }
 },
 "nbformat": 4,
 "nbformat_minor": 2
}
